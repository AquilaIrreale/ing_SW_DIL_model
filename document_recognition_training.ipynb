{
  "nbformat": 4,
  "nbformat_minor": 0,
  "metadata": {
    "colab": {
      "name": "document_recognition.ipynb",
      "provenance": [],
      "collapsed_sections": []
    },
    "kernelspec": {
      "name": "python3",
      "display_name": "Python 3"
    },
    "accelerator": "GPU"
  },
  "cells": [
    {
      "cell_type": "markdown",
      "metadata": {
        "id": "0h2KUD66LTkj",
        "colab_type": "text"
      },
      "source": [
        "\n",
        "\n",
        "---\n",
        "# Document Mask R-CNN training script\n"
      ]
    },
    {
      "cell_type": "markdown",
      "metadata": {
        "id": "zJNfV_8NLp25",
        "colab_type": "text"
      },
      "source": [
        "## Initializations\n",
        "setting up the specific versions needed from library"
      ]
    },
    {
      "cell_type": "code",
      "metadata": {
        "id": "gzWUOWLLCmEz",
        "colab_type": "code",
        "colab": {}
      },
      "source": [
        "print(\"DOCUMENT RECOGNITION Training\")\n",
        "%tensorflow_version 1.x\n",
        "!pip install keras==2.0.8"
      ],
      "execution_count": null,
      "outputs": []
    },
    {
      "cell_type": "markdown",
      "metadata": {
        "id": "H_LR_TjmMDb6",
        "colab_type": "text"
      },
      "source": [
        "clone repo library and install it, after that we work inside the library directory"
      ]
    },
    {
      "cell_type": "code",
      "metadata": {
        "id": "wwUm1OwyLvxq",
        "colab_type": "code",
        "colab": {}
      },
      "source": [
        "# setup the library and it's dependencies\n",
        "!git clone https://github.com/matterport/Mask_RCNN.git\n",
        "%cd Mask_RCNN\n",
        "!python setup.py install\n",
        "!pip install -r requirements.txt"
      ],
      "execution_count": null,
      "outputs": []
    },
    {
      "cell_type": "markdown",
      "metadata": {
        "id": "lacbrqDBNwLw",
        "colab_type": "text"
      },
      "source": [
        "mounting my google drive root folder where the dataset is located"
      ]
    },
    {
      "cell_type": "code",
      "metadata": {
        "id": "SPYfQiUIL2jm",
        "colab_type": "code",
        "colab": {}
      },
      "source": [
        "from google.colab import drive \n",
        "drive.mount('/content/drive')"
      ],
      "execution_count": null,
      "outputs": []
    },
    {
      "cell_type": "markdown",
      "metadata": {
        "id": "RHHcgx1fOmei",
        "colab_type": "text"
      },
      "source": [
        "downlaod the mscoco pretrained mask"
      ]
    },
    {
      "cell_type": "code",
      "metadata": {
        "id": "cTjyanzzMM7Y",
        "colab_type": "code",
        "colab": {}
      },
      "source": [
        "!wget https://github.com/matterport/Mask_RCNN/releases/download/v2.0/mask_rcnn_coco.h5"
      ],
      "execution_count": null,
      "outputs": []
    },
    {
      "cell_type": "markdown",
      "metadata": {
        "id": "1sBkN-yPS14g",
        "colab_type": "text"
      },
      "source": [
        "## CODE\n",
        "\n",
        "initialize script with imports and other significant variables and classes definitions"
      ]
    },
    {
      "cell_type": "code",
      "metadata": {
        "id": "Xp9LmYt9MUFY",
        "colab_type": "code",
        "colab": {
          "base_uri": "https://localhost:8080/",
          "height": 34
        },
        "outputId": "40079301-1195-4e9f-c44e-28ac6d432c14"
      },
      "source": [
        "import os\n",
        "import sys\n",
        "import json\n",
        "import datetime\n",
        "import numpy as np\n",
        "import skimage.draw\n",
        "import cv2\n",
        "from mrcnn.visualize import display_instances\n",
        "import matplotlib.pyplot as plt\n",
        "\n",
        "# Root directory of the project\n",
        "ROOT_DIR = os.path.abspath(\"./\")\n",
        "\n",
        "# Import Mask RCNN\n",
        "sys.path.append(ROOT_DIR)  # To find local version of the library\n",
        "from mrcnn.config import Config\n",
        "from mrcnn import model as modellib, utils\n",
        "\n",
        "# Path to trained weights file\n",
        "COCO_WEIGHTS_PATH = os.path.join(ROOT_DIR, \"mask_rcnn_coco.h5\")"
      ],
      "execution_count": 4,
      "outputs": [
        {
          "output_type": "stream",
          "text": [
            "Using TensorFlow backend.\n"
          ],
          "name": "stderr"
        }
      ]
    },
    {
      "cell_type": "code",
      "metadata": {
        "id": "VNnj4MIsMXTy",
        "colab_type": "code",
        "colab": {}
      },
      "source": [
        "############################################################\n",
        "#  Configurations\n",
        "############################################################\n",
        "\n",
        "\n",
        "class CustomConfig(Config):\n",
        "    \"\"\"Configuration for training on the dataset, provided from google drive.\n",
        "    Derives from the base Config class and overrides some values.\n",
        "    \"\"\"\n",
        "    # Give the configuration a recognizable name\n",
        "    NAME = \"document\"\n",
        "\n",
        "    # We use a GPU with 12GB memory, which can fit two images.\n",
        "    # Adjust down if you use a smaller GPU.\n",
        "    IMAGES_PER_GPU = 2\n",
        "\n",
        "    # Number of classes (including background)\n",
        "    NUM_CLASSES = 1 + 2  # Background + documenti\n",
        "    \n",
        "    # Number of training steps per epoch\n",
        "    STEPS_PER_EPOCH = 150\n",
        "\n",
        "    VALIDATION_STEPS = 25\n",
        "\n",
        "    LEARNING_RATE=0.006\n",
        "\n",
        "    # Skip detections with < 90% confidence\n",
        "    DETECTION_MIN_CONFIDENCE = 0.9"
      ],
      "execution_count": 5,
      "outputs": []
    },
    {
      "cell_type": "markdown",
      "metadata": {
        "id": "g71w9nAhTITR",
        "colab_type": "text"
      },
      "source": [
        "CustomDataset, inherit the Dataset library class to override the significant load mask method, necesssary to load the information about the training image's data. the mask is the region of the image that represent the objects that the net should recognize"
      ]
    },
    {
      "cell_type": "code",
      "metadata": {
        "id": "oGu9Eat6MvND",
        "colab_type": "code",
        "colab": {}
      },
      "source": [
        "############################################################\n",
        "#  Dataset\n",
        "############################################################\n",
        "\n",
        "class CustomDataset(utils.Dataset):      \n",
        "\n",
        "    def load_custom(self, dataset_dir, is_train=True): # aggiungere modularita per diversi documenti\n",
        "        \"\"\"\n",
        "          Load images from dataset directory, the images are stored in the structure own of the mask,\n",
        "          need to write good via_regions.json for every folder in the dataset\n",
        "\n",
        "          Parameters:\n",
        "          dataset_dir: path of the root folder of the dataset\n",
        "          is_train: boolean that represent the mode of the dataset\n",
        "        \"\"\"\n",
        "\n",
        "        if is_train:\n",
        "          dataset_dir = os.path.join(dataset_dir, \"training/\")\n",
        "        else:\n",
        "          dataset_dir = os.path.join(dataset_dir, \"validating/\")\n",
        "\n",
        "        # Add classes.\n",
        "        self.add_class(\"dataset\", 1, \"tesserino\")\n",
        "        self.add_class(\"dataset\", 2, \"patente\")\n",
        "\n",
        "        # Load annotations\n",
        "        # VGG Image Annotator saves each image in the form:\n",
        "        # { 'filename': '28503151_5b5b7ec140_b.jpg',\n",
        "        #   'regions': {\n",
        "        #       '0': {\n",
        "        #           'region_attributes': {},\n",
        "        #           'shape_attributes': {\n",
        "        #               'all_points_x': [...],\n",
        "        #               'all_points_y': [...],\n",
        "        #               'name': 'polygon'}},\n",
        "        #       ... more regions ...\n",
        "        #   },\n",
        "        #   'size': 100202\n",
        "        # }\n",
        "        # We mostly care about the x and y coordinates of each region\n",
        "\n",
        "        # dir_list = [dir_ for dir_ in os.listdir(dataset_dir)] #if os.path.isdir(dir_)]\n",
        "\n",
        "        dir_list = [dir_ for dir_ in os.listdir(dataset_dir) if os.path.isdir(os.path.join(dataset_dir, dir_))]\n",
        "\n",
        "        for dir_ in os.listdir(dataset_dir):\n",
        "          print(\"{0}: {1}\".format(dir_, os.path.isdir(os.path.join(dataset_dir, dir_))))\n",
        "\n",
        "        for dir_ in dir_list:\n",
        "          iter_dir = os.path.join(dataset_dir, dir_ + \"/\")\n",
        "\n",
        "          print(\"iterating: {0} ...\".format(iter_dir))\n",
        "\n",
        "          annotations1 = json.load(open(os.path.join(iter_dir, \"via_regions.json\")))\n",
        "          annotations = list(annotations1.values())  # don't need the dict keys\n",
        "\n",
        "          # The VIA tool saves images in the JSON even if they don't have any\n",
        "          # annotations. Skip unannotated images.\n",
        "          annotations = [a for a in annotations if a['regions']]\n",
        "\n",
        "\n",
        "          # Add images\n",
        "          for a in annotations:\n",
        "              # print(a)\n",
        "              # Get the x, y coordinaets of points of the polygons that make up\n",
        "              # the outline of each object instance. There are stores in the\n",
        "              # shape_attributes (see json format above)\n",
        "              polygons = [(r['region_attributes'], r['shape_attributes']) for r in a['regions']]\n",
        "\n",
        "              # load_mask() needs the image size to convert polygons to masks.\n",
        "              # Unfortunately, VIA doesn't include it in JSON, so we must read\n",
        "              # the image. This is only managable since the dataset is tiny.\n",
        "              image_path = os.path.join(iter_dir, a['filename'])\n",
        "              image = skimage.io.imread(image_path)\n",
        "              height, width = image.shape[:2]\n",
        "\n",
        "              self.add_image(\n",
        "                  \"dataset\",\n",
        "                  image_id=a['filename'],  # use file name as a unique image id\n",
        "                  path=image_path,\n",
        "                  width=width, height=height,\n",
        "                  polygons=polygons)\n",
        "                  \n",
        "          \n",
        "\n",
        "    def load_mask(self, image_id):\n",
        "        \"\"\"Generate instance masks for an image.\n",
        "       Returns:\n",
        "        masks: A bool array of shape [height, width, instance count] with\n",
        "            one mask per instance.\n",
        "        class_ids: a 1D array of class IDs of the instance masks.\n",
        "        \"\"\"\n",
        "        # If not a bottle dataset image, delegate to parent class.\n",
        "        image_info = self.image_info[image_id]\n",
        "        if image_info[\"source\"] != \"dataset\":\n",
        "            return super(self.__class__, self).load_mask(image_id)\n",
        "\n",
        "        # Convert polygons to a bitmap mask of shape\n",
        "        # [height, width, instance_count]\n",
        "        info = self.image_info[image_id]\n",
        "        mask = np.zeros([info[\"height\"], info[\"width\"], len(info[\"polygons\"])],\n",
        "                        dtype=np.uint8)\n",
        "        \n",
        "\n",
        "        class_ids = list()\n",
        "        for i, p in enumerate(info[\"polygons\"]):\n",
        "            # Get indexes of pixels inside the polygon and set them to 1\n",
        "            rr, cc = skimage.draw.polygon(p[1]['all_points_y'], p[1]['all_points_x'])\n",
        "            mask[rr, cc, i] = 1\n",
        "            class_ids.append(self.class_names.index(p[0]['name']))\n",
        "\n",
        "        # Return mask, and array of class IDs of each instance. Since we have\n",
        "        # one class ID only, we return an array of 1s\n",
        "        return mask.astype(np.bool), np.asarray(class_ids, dtype='int32')\n",
        "\n",
        "    def image_reference(self, image_id):\n",
        "        \"\"\"Return the path of the image.\"\"\"\n",
        "        info = self.image_info[image_id]\n",
        "        print(\"reference...\")\n",
        "        if info[\"source\"] == \"dataset\":\n",
        "            print(info[\"path\"])\n",
        "            return info[\"path\"]\n",
        "        else:\n",
        "            super(self.__class__, self).image_reference(image_id)\n"
      ],
      "execution_count": 17,
      "outputs": []
    },
    {
      "cell_type": "code",
      "metadata": {
        "id": "HmuZkcgNRYLf",
        "colab_type": "code",
        "colab": {}
      },
      "source": [
        "# Utilities\n",
        "\n",
        "classes_ = None\n",
        "\n",
        "def train(model):\n",
        "    \"\"\" Train the model. \"\"\"\n",
        "    \n",
        "    global classes_\n",
        "    \n",
        "    # Training dataset.\n",
        "    dataset_train = CustomDataset()\n",
        "    dataset_train.load_custom(\"/content/drive/My Drive/Ing_sw_testing/document_dataset/\", is_train = True)\n",
        "    dataset_train.prepare()\n",
        "\n",
        "    classes_ = dataset_train.class_names\n",
        "\n",
        "    # Validation dataset\n",
        "    dataset_val = CustomDataset()\n",
        "    dataset_val.load_custom(\"/content/drive/My Drive/Ing_sw_testing/document_dataset/\", is_train = False) # cambiare directory\n",
        "    dataset_val.prepare()\n",
        "\n",
        "    # *** This training schedule is an example. Update to your needs ***\n",
        "    # Since we're using a very small dataset, and starting from\n",
        "    # COCO trained weights, we don't need to train too long. Also,\n",
        "    # no need to train all layers, just the heads should do it.\n",
        "    print(\"Training network heads\")\n",
        "    model.train(dataset_train, dataset_val,\n",
        "                learning_rate=config.LEARNING_RATE,\n",
        "                epochs=10,\n",
        "                layers='heads')\n"
      ],
      "execution_count": 7,
      "outputs": []
    },
    {
      "cell_type": "markdown",
      "metadata": {
        "id": "Nfc3RKZdx4P2",
        "colab_type": "text"
      },
      "source": [
        "initialize the data defined above to train our model"
      ]
    },
    {
      "cell_type": "code",
      "metadata": {
        "id": "D2Y3AihbR4cR",
        "colab_type": "code",
        "colab": {}
      },
      "source": [
        "config = CustomConfig()\n",
        "config.display()"
      ],
      "execution_count": null,
      "outputs": []
    },
    {
      "cell_type": "code",
      "metadata": {
        "id": "OElUUv5pSHE5",
        "colab_type": "code",
        "colab": {}
      },
      "source": [
        "# TRAINING\n",
        "model = modellib.MaskRCNN(mode=\"training\", config=config,\n",
        "                                  model_dir=\"./\")\n",
        "weights_path = COCO_WEIGHTS_PATH\n",
        "model.load_weights(weights_path, by_name=True, exclude=[\n",
        "            \"mrcnn_class_logits\", \"mrcnn_bbox_fc\",\n",
        "            \"mrcnn_bbox\", \"mrcnn_mask\"])\n",
        "\n",
        "train(model)\n"
      ],
      "execution_count": null,
      "outputs": []
    },
    {
      "cell_type": "markdown",
      "metadata": {
        "id": "pJHQrsY9aUnU",
        "colab_type": "text"
      },
      "source": [
        "save the weights trained referred to my dataset"
      ]
    },
    {
      "cell_type": "code",
      "metadata": {
        "id": "q46m_tJBkVD9",
        "colab_type": "code",
        "colab": {}
      },
      "source": [
        "import time\n",
        "model_path = 'mask_rcnn_'  + '.' + str(time.time()) + '.h5'\n",
        "model.keras_model.save_weights(model_path)\n",
        "print(model_path)\n"
      ],
      "execution_count": null,
      "outputs": []
    },
    {
      "cell_type": "markdown",
      "metadata": {
        "id": "HxoBATimamkO",
        "colab_type": "text"
      },
      "source": [
        "download the weights calculated"
      ]
    },
    {
      "cell_type": "code",
      "metadata": {
        "id": "K-ZPuSpaalHZ",
        "colab_type": "code",
        "colab": {
          "base_uri": "https://localhost:8080/",
          "height": 17
        },
        "outputId": "ae812c2c-ba83-47eb-d4df-192318f27430"
      },
      "source": [
        "from google.colab import files\n",
        "files.download(model_path)"
      ],
      "execution_count": null,
      "outputs": [
        {
          "output_type": "display_data",
          "data": {
            "application/javascript": [
              "\n",
              "    async function download(id, filename, size) {\n",
              "      if (!google.colab.kernel.accessAllowed) {\n",
              "        return;\n",
              "      }\n",
              "      const div = document.createElement('div');\n",
              "      const label = document.createElement('label');\n",
              "      label.textContent = `Downloading \"${filename}\": `;\n",
              "      div.appendChild(label);\n",
              "      const progress = document.createElement('progress');\n",
              "      progress.max = size;\n",
              "      div.appendChild(progress);\n",
              "      document.body.appendChild(div);\n",
              "\n",
              "      const buffers = [];\n",
              "      let downloaded = 0;\n",
              "\n",
              "      const channel = await google.colab.kernel.comms.open(id);\n",
              "      // Send a message to notify the kernel that we're ready.\n",
              "      channel.send({})\n",
              "\n",
              "      for await (const message of channel.messages) {\n",
              "        // Send a message to notify the kernel that we're ready.\n",
              "        channel.send({})\n",
              "        if (message.buffers) {\n",
              "          for (const buffer of message.buffers) {\n",
              "            buffers.push(buffer);\n",
              "            downloaded += buffer.byteLength;\n",
              "            progress.value = downloaded;\n",
              "          }\n",
              "        }\n",
              "      }\n",
              "      const blob = new Blob(buffers, {type: 'application/binary'});\n",
              "      const a = document.createElement('a');\n",
              "      a.href = window.URL.createObjectURL(blob);\n",
              "      a.download = filename;\n",
              "      div.appendChild(a);\n",
              "      a.click();\n",
              "      div.remove();\n",
              "    }\n",
              "  "
            ],
            "text/plain": [
              "<IPython.core.display.Javascript object>"
            ]
          },
          "metadata": {
            "tags": []
          }
        },
        {
          "output_type": "display_data",
          "data": {
            "application/javascript": [
              "download(\"download_5c8c9f2b-761c-4f35-84ff-26d613725800\", \"mask_rcnn_.1594028525.6874764.h5\", 255880680)"
            ],
            "text/plain": [
              "<IPython.core.display.Javascript object>"
            ]
          },
          "metadata": {
            "tags": []
          }
        }
      ]
    },
    {
      "cell_type": "markdown",
      "metadata": {
        "id": "ykG3q2tZauqK",
        "colab_type": "text"
      },
      "source": [
        "define new ineheritanced config class, used only for detections"
      ]
    },
    {
      "cell_type": "code",
      "metadata": {
        "id": "AcBPoqcgkZTs",
        "colab_type": "code",
        "colab": {}
      },
      "source": [
        "class InferenceConfig(CustomConfig):\n",
        "    # Set batch size to 1 since we'll be running inference on\n",
        "    # one image at a time. Batch size = GPU_COUNT * IMAGES_PER_GPU\n",
        "    GPU_COUNT = 1\n",
        "    IMAGES_PER_GPU = 1\n",
        "    DETECTION_MIN_CONFIDENCE = 0.9"
      ],
      "execution_count": null,
      "outputs": []
    },
    {
      "cell_type": "code",
      "metadata": {
        "id": "kCjQi3L6k4mC",
        "colab_type": "code",
        "colab": {}
      },
      "source": [
        "config = InferenceConfig()\n",
        "config.display()"
      ],
      "execution_count": null,
      "outputs": []
    },
    {
      "cell_type": "markdown",
      "metadata": {
        "id": "a58SH-m_a6Pu",
        "colab_type": "text"
      },
      "source": [
        "create the model in inference mode for doing tests\n"
      ]
    },
    {
      "cell_type": "code",
      "metadata": {
        "id": "6bIxiQJEk7jC",
        "colab_type": "code",
        "colab": {}
      },
      "source": [
        "model = modellib.MaskRCNN(mode=\"inference\", config=config,  model_dir=\"./\")\n",
        "\n",
        "model.load_weights(model_path, by_name=True)"
      ],
      "execution_count": null,
      "outputs": []
    },
    {
      "cell_type": "markdown",
      "metadata": {
        "id": "d2PTuw5RbBlA",
        "colab_type": "text"
      },
      "source": [
        "run detection on a testing never seen image"
      ]
    },
    {
      "cell_type": "code",
      "metadata": {
        "id": "F345OmFklMre",
        "colab_type": "code",
        "colab": {}
      },
      "source": [
        "# Run object detection\n",
        "image = skimage.io.imread(\"/content/drive/My Drive/Ing_sw_testing/document_dataset/testing/test1.jpg\")\n",
        "results = model.detect([image], verbose=1)\n",
        "\n",
        "# Display results\n",
        "r = results[0]\n",
        "\n",
        "print(classes_)\n",
        "\n",
        "display_instances(image, r['rois'], r['masks'], r['class_ids'], \n",
        "                            classes_, r['scores'], \n",
        "                            title=\"Predictions\")\n",
        "\n",
        "print(r['rois'])\n"
      ],
      "execution_count": null,
      "outputs": []
    }
  ]
}